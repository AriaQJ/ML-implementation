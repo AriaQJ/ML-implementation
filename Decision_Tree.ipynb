{
 "cells": [
  {
   "cell_type": "code",
   "execution_count": null,
   "id": "b4a0ab2d",
   "metadata": {},
   "outputs": [],
   "source": [
    "import math\n",
    "-(2/3)*math.log(2/3,2)-(1/3)*math.log(1/3,2)"
   ]
  },
  {
   "cell_type": "code",
   "execution_count": 1,
   "id": "6f288ff4",
   "metadata": {},
   "outputs": [],
   "source": [
    "import sys\n",
    "sys.path.append(r\"C:\\Users\\ariaq\\OneDrive\\桌面\\study\\ud120-projects-master\\ud120-projects-master/tools/\")\n",
    "sys.path.append(r'C:\\Users\\ariaq\\OneDrive\\桌面\\study\\ud120-projects-master\\ud120-projects-master/choose_your_own')\n",
    "sys.path.append(r'C:\\Users\\ariaq\\OneDrive\\桌面\\study\\ud120-projects-master\\ud120-projects-master/decision_tree')\n",
    "\n",
    "import os\n",
    "os.chdir(r'C:\\Users\\ariaq\\OneDrive\\桌面\\study\\ud120-projects-master\\ud120-projects-master/decision_tree')\n",
    "\n",
    "from class_vis import prettyPicture, output_image\n",
    "from prep_terrain_data import makeTerrainData\n",
    "\n",
    "import matplotlib.pyplot as plt\n",
    "import numpy as np\n",
    "import pylab as pl\n",
    "from classifyDT import classify"
   ]
  },
  {
   "cell_type": "code",
   "execution_count": null,
   "id": "dd5772d3",
   "metadata": {},
   "outputs": [],
   "source": [
    "def classify(features_train, labels_train):\n",
    "    \n",
    "    ### your code goes here--should return a trained decision tree classifer\n",
    "    from sklearn import tree\n",
    "    clf = tree.DecisionTreeClassifier()\n",
    "    clf.fit(features_train, labels_train)\n",
    "    \n",
    "    \n",
    "    return clf"
   ]
  },
  {
   "cell_type": "code",
   "execution_count": null,
   "id": "6e0b3a47",
   "metadata": {},
   "outputs": [],
   "source": [
    "features_train, labels_train, features_test, labels_test = makeTerrainData()\n",
    "\n",
    "\n",
    "\n",
    "### the classify() function in classifyDT is where the magic\n",
    "### happens--fill in this function in the file 'classifyDT.py'!\n",
    "clf = classify(features_train, labels_train)\n",
    "\n",
    "#### grader code, do not modify below this line\n",
    "\n",
    "prettyPicture(clf, features_test, labels_test)\n",
    "#output_image(\"test.png\", \"png\", open(\"test.png\", \"rb\").read())\n",
    "pred = clf.predict(features_test)\n",
    "#from sklearn.metrics import accuracy_score\n",
    "#print(accuracy_score(pred, labels_test))\n",
    "print(clf.score(features_test,labels_test))"
   ]
  },
  {
   "cell_type": "code",
   "execution_count": null,
   "id": "0a8afef5",
   "metadata": {},
   "outputs": [],
   "source": [
    "features_train, labels_train, features_test, labels_test = makeTerrainData()\n",
    "from sklearn import tree\n",
    "clf = tree.DecisionTreeClassifier(min_samples_split=50)\n",
    "clf.fit(features_train, labels_train)\n",
    "prettyPicture(clf, features_test, labels_test)\n",
    "pred2 = clf.predict(features_test)\n",
    "print(clf.score(features_test,labels_test))"
   ]
  },
  {
   "cell_type": "code",
   "execution_count": 2,
   "id": "d12d5254",
   "metadata": {},
   "outputs": [
    {
     "name": "stdout",
     "output_type": "stream",
     "text": [
      "No. of Chris training emails :  7936\n",
      "No. of Sara training emails :  7884\n"
     ]
    }
   ],
   "source": [
    "#!/usr/bin/python\n",
    "\n",
    "\"\"\" \n",
    "    This is the code to accompany the Lesson 3 (decision tree) mini-project.\n",
    "\n",
    "    Use a Decision Tree to identify emails from the Enron corpus by author:    \n",
    "    Sara has label 0\n",
    "    Chris has label 1\n",
    "\"\"\"\n",
    "    \n",
    "import sys\n",
    "from time import time\n",
    "sys.path.append(\"../tools/\")\n",
    "from email_preprocess import preprocess\n",
    "\n",
    "\n",
    "### features_train and features_test are the features for the training\n",
    "### and testing datasets, respectively\n",
    "### labels_train and labels_test are the corresponding item labels\n",
    "features_train, features_test, labels_train, labels_test = preprocess()"
   ]
  },
  {
   "cell_type": "code",
   "execution_count": 4,
   "id": "c0b5cce1",
   "metadata": {},
   "outputs": [
    {
     "name": "stdout",
     "output_type": "stream",
     "text": [
      "0.9670079635949943\n"
     ]
    }
   ],
   "source": [
    "from sklearn import tree\n",
    "clf = tree.DecisionTreeClassifier(min_samples_split=40)\n",
    "clf.fit(features_train,labels_train)\n",
    "#prettyPicture(clf, features_test, labels_test)\n",
    "pred2 = clf.predict(features_test)\n",
    "print(clf.score(features_test,labels_test))\n"
   ]
  },
  {
   "cell_type": "code",
   "execution_count": 3,
   "id": "c280970a",
   "metadata": {},
   "outputs": [
    {
     "data": {
      "text/plain": [
       "((15820, 379), 379)"
      ]
     },
     "execution_count": 3,
     "metadata": {},
     "output_type": "execute_result"
    }
   ],
   "source": [
    "features_train.shape,len(features_train[0])"
   ]
  },
  {
   "cell_type": "code",
   "execution_count": null,
   "id": "bc28b510",
   "metadata": {},
   "outputs": [],
   "source": []
  }
 ],
 "metadata": {
  "kernelspec": {
   "display_name": "Python 3",
   "language": "python",
   "name": "python3"
  },
  "language_info": {
   "codemirror_mode": {
    "name": "ipython",
    "version": 3
   },
   "file_extension": ".py",
   "mimetype": "text/x-python",
   "name": "python",
   "nbconvert_exporter": "python",
   "pygments_lexer": "ipython3",
   "version": "3.8.8"
  }
 },
 "nbformat": 4,
 "nbformat_minor": 5
}
